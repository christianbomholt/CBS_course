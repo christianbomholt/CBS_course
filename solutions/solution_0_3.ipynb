{
 "cells": [
  {
   "cell_type": "markdown",
   "metadata": {},
   "source": [
    "## Export data to Excel\n",
    "\n",
    "Exporting data to excel is quite straight forward. The few pitfalls are\n",
    "\n",
    "- pathing \n",
    "\n",
    "\n",
    "## Exercise 0.3\n",
    "\n",
    "- Try to use the `write.xlsx` function\n",
    "- use `?` to get information regarding `write.xlsx`\n",
    "\n",
    "\n",
    "![](https://images.techhive.com/images/article/2017/05/cw_cheat_sheet_microsoft_excel_2016_a-100720988-large.jpg)\n"
   ]
  },
  {
   "cell_type": "code",
   "execution_count": 3,
   "metadata": {},
   "outputs": [],
   "source": [
    "library(openxlsx)\n",
    "filename <- '../data/writeXLSX1.xlsx' \n",
    "df <- iris\n",
    "\n",
    "write.xlsx(\n",
    "    df,\n",
    "    file = filename,\n",
    "    colNames = TRUE,\n",
    "    borders = \"columns\"\n",
    ")"
   ]
  },
  {
   "cell_type": "code",
   "execution_count": null,
   "metadata": {},
   "outputs": [],
   "source": []
  }
 ],
 "metadata": {
  "kernelspec": {
   "display_name": "R",
   "language": "R",
   "name": "ir"
  },
  "language_info": {
   "codemirror_mode": "r",
   "file_extension": ".r",
   "mimetype": "text/x-r-source",
   "name": "R",
   "pygments_lexer": "r",
   "version": "3.5.2"
  }
 },
 "nbformat": 4,
 "nbformat_minor": 2
}
