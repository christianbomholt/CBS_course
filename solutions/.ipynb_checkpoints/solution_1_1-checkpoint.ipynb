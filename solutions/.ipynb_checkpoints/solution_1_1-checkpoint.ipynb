{
 "cells": [
  {
   "cell_type": "code",
   "execution_count": 11,
   "metadata": {},
   "outputs": [
    {
     "data": {
      "text/html": [
       "<table>\n",
       "<thead><tr><th scope=col>country</th><th scope=col>description</th><th scope=col>designation</th><th scope=col>points</th><th scope=col>price</th><th scope=col>province</th><th scope=col>region_1</th><th scope=col>region_2</th><th scope=col>taster_name</th><th scope=col>taster_twitter_handle</th><th scope=col>title</th><th scope=col>variety</th><th scope=col>winery</th></tr></thead>\n",
       "<tbody>\n",
       "\t<tr><td><span style=white-space:pre-wrap>Italy   </span>                                                                                                                                                                                                                           </td><td><span style=white-space:pre-wrap>Aromas include tropical fruit, broom, brimstone and dried herb. The palate isn't overly expressive, offering unripened apple, citrus and dried sage alongside brisk acidity.                                                       </span></td><td>Vulkà Bianco                                                                                                                                                                                                                                                               </td><td>87                                                                                                                                                                                                                                                                         </td><td>NA                                                                                                                                                                                                                                                                         </td><td>Sicily &amp; Sardinia                                                                                                                                                                                                                                                      </td><td>Etna                                                                                                                                                                                                                                                                       </td><td>NA                                                                                                                                                                                                                                                                         </td><td>Kerin O’Keefe                                                                                                                                                                                                                                                              </td><td>@kerinokeefe                                                                                                                                                                                                                                                               </td><td><span style=white-space:pre-wrap>Nicosia 2013 Vulkà Bianco  (Etna)            </span>                                                                                                                                                                                      </td><td><span style=white-space:pre-wrap>White Blend   </span>                                                                                                                                                                                                                     </td><td><span style=white-space:pre-wrap>Nicosia            </span>                                                                                                                                                                                                                </td></tr>\n",
       "\t<tr><td>Portugal                                                                                                                                                                                                                           </td><td>This is ripe and fruity, a wine that is smooth while still structured. Firm tannins are filled out with juicy red berry fruits and freshened with acidity. It's  already drinkable, although it will certainly be better from 2016.</td><td>Avidagos                                                                                                                                                                                                                           </td><td>87                                                                                                                                                                                                                                 </td><td>15                                                                                                                                                                                                                                 </td><td>Douro                                                                                                                                                                                                                              </td><td>NA                                                                                                                                                                                                                                 </td><td>NA                                                                                                                                                                                                                                 </td><td>Roger Voss                                                                                                                                                                                                                         </td><td>@vossroger                                                                                                                                                                                                                         </td><td>Quinta dos Avidagos 2011 Avidagos Red (Douro)                                                                                                                                                                                      </td><td>Portuguese Red                                                                                                                                                                                                                     </td><td>Quinta dos Avidagos                                                                                                                                                                                                                </td></tr>\n",
       "</tbody>\n",
       "</table>\n"
      ],
      "text/latex": [
       "\\begin{tabular}{r|lllllllllllll}\n",
       " country & description & designation & points & price & province & region\\_1 & region\\_2 & taster\\_name & taster\\_twitter\\_handle & title & variety & winery\\\\\n",
       "\\hline\n",
       "\t Italy                                                                                                                                                                                                                               & Aromas include tropical fruit, broom, brimstone and dried herb. The palate isn't overly expressive, offering unripened apple, citrus and dried sage alongside brisk acidity.                                                        & Vulkà Bianco                                                                                                                                                                                                                        & 87                                                                                                                                                                                                                                  & NA                                                                                                                                                                                                                                  & Sicily \\& Sardinia                                                                                                                                                                                                                 & Etna                                                                                                                                                                                                                                & NA                                                                                                                                                                                                                                  & Kerin O’Keefe                                                                                                                                                                                                                       & @kerinokeefe                                                                                                                                                                                                                        & Nicosia 2013 Vulkà Bianco  (Etna)                                                                                                                                                                                                   & White Blend                                                                                                                                                                                                                         & Nicosia                                                                                                                                                                                                                            \\\\\n",
       "\t Portugal                                                                                                                                                                                                                            & This is ripe and fruity, a wine that is smooth while still structured. Firm tannins are filled out with juicy red berry fruits and freshened with acidity. It's  already drinkable, although it will certainly be better from 2016. & Avidagos                                                                                                                                                                                                                            & 87                                                                                                                                                                                                                                  & 15                                                                                                                                                                                                                                  & Douro                                                                                                                                                                                                                               & NA                                                                                                                                                                                                                                  & NA                                                                                                                                                                                                                                  & Roger Voss                                                                                                                                                                                                                          & @vossroger                                                                                                                                                                                                                          & Quinta dos Avidagos 2011 Avidagos Red (Douro)                                                                                                                                                                                       & Portuguese Red                                                                                                                                                                                                                      & Quinta dos Avidagos                                                                                                                                                                                                                \\\\\n",
       "\\end{tabular}\n"
      ],
      "text/markdown": [
       "\n",
       "| country | description | designation | points | price | province | region_1 | region_2 | taster_name | taster_twitter_handle | title | variety | winery |\n",
       "|---|---|---|---|---|---|---|---|---|---|---|---|---|\n",
       "| Italy                                                                                                                                                                                                                               | Aromas include tropical fruit, broom, brimstone and dried herb. The palate isn't overly expressive, offering unripened apple, citrus and dried sage alongside brisk acidity.                                                        | Vulkà Bianco                                                                                                                                                                                                                        | 87                                                                                                                                                                                                                                  | NA                                                                                                                                                                                                                                  | Sicily & Sardinia                                                                                                                                                                                                                   | Etna                                                                                                                                                                                                                                | NA                                                                                                                                                                                                                                  | Kerin O’Keefe                                                                                                                                                                                                                       | @kerinokeefe                                                                                                                                                                                                                        | Nicosia 2013 Vulkà Bianco  (Etna)                                                                                                                                                                                                   | White Blend                                                                                                                                                                                                                         | Nicosia                                                                                                                                                                                                                             |\n",
       "| Portugal                                                                                                                                                                                                                            | This is ripe and fruity, a wine that is smooth while still structured. Firm tannins are filled out with juicy red berry fruits and freshened with acidity. It's  already drinkable, although it will certainly be better from 2016. | Avidagos                                                                                                                                                                                                                            | 87                                                                                                                                                                                                                                  | 15                                                                                                                                                                                                                                  | Douro                                                                                                                                                                                                                               | NA                                                                                                                                                                                                                                  | NA                                                                                                                                                                                                                                  | Roger Voss                                                                                                                                                                                                                          | @vossroger                                                                                                                                                                                                                          | Quinta dos Avidagos 2011 Avidagos Red (Douro)                                                                                                                                                                                       | Portuguese Red                                                                                                                                                                                                                      | Quinta dos Avidagos                                                                                                                                                                                                                 |\n",
       "\n"
      ],
      "text/plain": [
       "  country \n",
       "1 Italy   \n",
       "2 Portugal\n",
       "  description                                                                                                                                                                                                                        \n",
       "1 Aromas include tropical fruit, broom, brimstone and dried herb. The palate isn't overly expressive, offering unripened apple, citrus and dried sage alongside brisk acidity.                                                       \n",
       "2 This is ripe and fruity, a wine that is smooth while still structured. Firm tannins are filled out with juicy red berry fruits and freshened with acidity. It's  already drinkable, although it will certainly be better from 2016.\n",
       "  designation  points price province          region_1 region_2 taster_name  \n",
       "1 Vulkà Bianco 87     NA    Sicily & Sardinia Etna     NA       Kerin O’Keefe\n",
       "2 Avidagos     87     15    Douro             NA       NA       Roger Voss   \n",
       "  taster_twitter_handle title                                        \n",
       "1 @kerinokeefe          Nicosia 2013 Vulkà Bianco  (Etna)            \n",
       "2 @vossroger            Quinta dos Avidagos 2011 Avidagos Red (Douro)\n",
       "  variety        winery             \n",
       "1 White Blend    Nicosia            \n",
       "2 Portuguese Red Quinta dos Avidagos"
      ]
     },
     "metadata": {},
     "output_type": "display_data"
    }
   ],
   "source": [
    "library(readr)\n",
    "suppressPackageStartupMessages(library(dplyr)) \n",
    "wines <- suppressMessages(suppressWarnings(\n",
    "    read_csv(\"../data/winemag-data-130k-v2.csv\")[,-1]))\n",
    "head(wines,2) "
   ]
  },
  {
   "cell_type": "code",
   "execution_count": null,
   "metadata": {},
   "outputs": [],
   "source": [
    "\n",
    "# The data was scraped from WineEnthusiast during the week of June 15th, 2017. The code for the scraper can be found here if you have any more specific questions about data collection that I didn't address.\n",
    "\n",
    "\n",
    "# En masse tie-breakers\n",
    "topwines <- wines %>%\n",
    "  group_by(title) %>%\n",
    "  mutate(avg_price = mean(price,na.rm = T)) %>%\n",
    "  mutate(avg_score = mean(points,na.rm = T)) %>%\n",
    "  arrange(desc(points))\n",
    "\n",
    "topwines %>% filter(points >= 98) %>% nrow()\n",
    "\n",
    "# Give me the best and cheapest\n",
    "topwines %>% arrange(desc(points),price) %>% head\n",
    "\n",
    "# Value for money \n",
    "topwines %>% \n",
    "  mutate(value_for_money = avg_score/avg_price ) %>% \n",
    "  arrange(desc(value_for_money)) %>%\n",
    "  select(value_for_money,country,title,province,price,points) %>%\n",
    "  head()\n",
    "\n",
    "# Yields discount store wine..\n",
    "\n",
    "# Add a filter\n",
    "topwines %>% \n",
    "  mutate(value_for_money = avg_score/avg_price ) %>% \n",
    "  filter(points>95) %>% \n",
    "  arrange(desc(value_for_money)) %>%\n",
    "  select(value_for_money,country,title,province,price,points) %>%\n",
    "  head()"
   ]
  },
  {
   "cell_type": "code",
   "execution_count": null,
   "metadata": {},
   "outputs": [],
   "source": []
  }
 ],
 "metadata": {
  "kernelspec": {
   "display_name": "R",
   "language": "R",
   "name": "ir"
  },
  "language_info": {
   "codemirror_mode": "r",
   "file_extension": ".r",
   "mimetype": "text/x-r-source",
   "name": "R",
   "pygments_lexer": "r",
   "version": "3.5.2"
  }
 },
 "nbformat": 4,
 "nbformat_minor": 2
}
