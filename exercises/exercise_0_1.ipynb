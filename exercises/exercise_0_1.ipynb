{
 "cells": [
  {
   "cell_type": "markdown",
   "metadata": {},
   "source": [
    "## Data cleaning at load\n",
    "\n",
    "One of the most common mistakes seen from proffesionals working with data is that they do not utilize the cleaning capabilities of their loading framework.\n",
    "\n",
    "###### Adding a few arguments to your load statement will save hours down the line\n",
    "\n",
    "###### It also has the added benefit of tidying your [ETL pipeline](https://en.wikipedia.org/wiki/Extract,_transform,_load) drastically.\n",
    "\n",
    "\n",
    "## Exercise 0.1\n",
    "\n",
    " - play around with the arguments for `read_excel`\n",
    " - `read_excel(path, argument1 = x, argument2 = y)`\n",
    "\n",
    "\n",
    "![](https://miro.medium.com/max/882/1*eVZyKIcUXOfzPrMTGx7yVw.png)\n"
   ]
  },
  {
   "cell_type": "code",
   "execution_count": 7,
   "metadata": {
    "scrolled": false
   },
   "outputs": [
    {
     "data": {
      "text/html": [
       "<table>\n",
       "<thead><tr><th scope=col>.DESC</th><th scope=col>Argentina: Primary Surplus[+]/Deficit[-] as % of GDP (%) 4-qtr MovingAverage</th><th scope=col>Argentina: BOP: Current Account Balance as a Percentage of GDP (SA, %)</th><th scope=col>H213ACG: Argentina: Balance of Payments: Goods (SA, US$) H213NGPD: Argentina: GDP at Current Prices &amp; Exchange Rates (SA, US$) 2-qtr MovingAverage</th><th scope=col>Argentina: Real Gross Domestic Product at Market Prices (SA, Qtr/Qtr % Change)</th><th scope=col>Externaldebt</th></tr></thead>\n",
       "<tbody>\n",
       "\t<tr><td>2003-07-01</td><td>NA        </td><td>-2.730    </td><td>NA        </td><td>NA        </td><td>101.14    </td></tr>\n",
       "\t<tr><td>2003-08-01</td><td>NA        </td><td>-2.730    </td><td>NA        </td><td>NA        </td><td>101.14    </td></tr>\n",
       "\t<tr><td>2003-09-01</td><td>NA        </td><td>-2.730    </td><td>NA        </td><td>NA        </td><td> 97.73    </td></tr>\n",
       "\t<tr><td>2003-10-01</td><td>NA        </td><td>-5.215    </td><td>NA        </td><td>NA        </td><td> 97.73    </td></tr>\n",
       "\t<tr><td>2003-11-01</td><td>NA        </td><td>-5.215    </td><td>NA        </td><td>NA        </td><td> 97.73    </td></tr>\n",
       "\t<tr><td>2003-12-01</td><td>NA        </td><td>-5.215    </td><td>NA        </td><td>NA        </td><td>103.24    </td></tr>\n",
       "</tbody>\n",
       "</table>\n"
      ],
      "text/latex": [
       "\\begin{tabular}{r|llllll}\n",
       " .DESC & Argentina: Primary Surplus{[}+{]}/Deficit{[}-{]} as \\% of GDP (\\%) 4-qtr MovingAverage & Argentina: BOP: Current Account Balance as a Percentage of GDP (SA, \\%) & H213ACG: Argentina: Balance of Payments: Goods (SA, US\\$) H213NGPD: Argentina: GDP at Current Prices \\& Exchange Rates (SA, US\\$) 2-qtr MovingAverage & Argentina: Real Gross Domestic Product at Market Prices (SA, Qtr/Qtr \\% Change) & Externaldebt\\\\\n",
       "\\hline\n",
       "\t 2003-07-01 & NA         & -2.730     & NA         & NA         & 101.14    \\\\\n",
       "\t 2003-08-01 & NA         & -2.730     & NA         & NA         & 101.14    \\\\\n",
       "\t 2003-09-01 & NA         & -2.730     & NA         & NA         &  97.73    \\\\\n",
       "\t 2003-10-01 & NA         & -5.215     & NA         & NA         &  97.73    \\\\\n",
       "\t 2003-11-01 & NA         & -5.215     & NA         & NA         &  97.73    \\\\\n",
       "\t 2003-12-01 & NA         & -5.215     & NA         & NA         & 103.24    \\\\\n",
       "\\end{tabular}\n"
      ],
      "text/markdown": [
       "\n",
       "| .DESC | Argentina: Primary Surplus[+]/Deficit[-] as % of GDP (%) 4-qtr MovingAverage | Argentina: BOP: Current Account Balance as a Percentage of GDP (SA, %) | H213ACG: Argentina: Balance of Payments: Goods (SA, US$) H213NGPD: Argentina: GDP at Current Prices & Exchange Rates (SA, US$) 2-qtr MovingAverage | Argentina: Real Gross Domestic Product at Market Prices (SA, Qtr/Qtr % Change) | Externaldebt |\n",
       "|---|---|---|---|---|---|\n",
       "| 2003-07-01 | NA         | -2.730     | NA         | NA         | 101.14     |\n",
       "| 2003-08-01 | NA         | -2.730     | NA         | NA         | 101.14     |\n",
       "| 2003-09-01 | NA         | -2.730     | NA         | NA         |  97.73     |\n",
       "| 2003-10-01 | NA         | -5.215     | NA         | NA         |  97.73     |\n",
       "| 2003-11-01 | NA         | -5.215     | NA         | NA         |  97.73     |\n",
       "| 2003-12-01 | NA         | -5.215     | NA         | NA         | 103.24     |\n",
       "\n"
      ],
      "text/plain": [
       "  .DESC     \n",
       "1 2003-07-01\n",
       "2 2003-08-01\n",
       "3 2003-09-01\n",
       "4 2003-10-01\n",
       "5 2003-11-01\n",
       "6 2003-12-01\n",
       "  Argentina: Primary Surplus[+]/Deficit[-] as % of GDP (%) 4-qtr MovingAverage\n",
       "1 NA                                                                          \n",
       "2 NA                                                                          \n",
       "3 NA                                                                          \n",
       "4 NA                                                                          \n",
       "5 NA                                                                          \n",
       "6 NA                                                                          \n",
       "  Argentina: BOP: Current Account Balance as a Percentage of GDP (SA, %)\n",
       "1 -2.730                                                                \n",
       "2 -2.730                                                                \n",
       "3 -2.730                                                                \n",
       "4 -5.215                                                                \n",
       "5 -5.215                                                                \n",
       "6 -5.215                                                                \n",
       "  H213ACG: Argentina: Balance of Payments: Goods (SA, US$) H213NGPD: Argentina: GDP at Current Prices & Exchange Rates (SA, US$) 2-qtr MovingAverage\n",
       "1 NA                                                                                                                                                \n",
       "2 NA                                                                                                                                                \n",
       "3 NA                                                                                                                                                \n",
       "4 NA                                                                                                                                                \n",
       "5 NA                                                                                                                                                \n",
       "6 NA                                                                                                                                                \n",
       "  Argentina: Real Gross Domestic Product at Market Prices (SA, Qtr/Qtr % Change)\n",
       "1 NA                                                                            \n",
       "2 NA                                                                            \n",
       "3 NA                                                                            \n",
       "4 NA                                                                            \n",
       "5 NA                                                                            \n",
       "6 NA                                                                            \n",
       "  Externaldebt\n",
       "1 101.14      \n",
       "2 101.14      \n",
       "3  97.73      \n",
       "4  97.73      \n",
       "5  97.73      \n",
       "6 103.24      "
      ]
     },
     "metadata": {},
     "output_type": "display_data"
    }
   ],
   "source": [
    "library(readxl)\n",
    "df <- suppressMessages(read_excel(\"../data/xl/haver.xlsx\",skip = 1, a = \"#N/A\"))\n",
    "head(df,6)"
   ]
  },
  {
   "cell_type": "code",
   "execution_count": 8,
   "metadata": {},
   "outputs": [
    {
     "name": "stdout",
     "output_type": "stream",
     "text": [
      "Classes ‘tbl_df’, ‘tbl’ and 'data.frame':\t165 obs. of  6 variables:\n",
      " $ .DESC                                                                                                                                             : POSIXct, format: \"2003-07-01\" \"2003-08-01\" ...\n",
      " $ Argentina: Primary Surplus[+]/Deficit[-] as % of GDP (%) 4-qtr MovingAverage                                                                      : num  NA NA NA NA NA NA NA NA NA NA ...\n",
      " $ Argentina: BOP: Current Account Balance as a Percentage of GDP (SA, %)                                                                            : num  -2.73 -2.73 -2.73 -5.21 -5.21 ...\n",
      " $ H213ACG: Argentina: Balance of Payments: Goods (SA, US$) H213NGPD: Argentina: GDP at Current Prices & Exchange Rates (SA, US$) 2-qtr MovingAverage: num  NA NA NA NA NA ...\n",
      " $ Argentina: Real Gross Domestic Product at Market Prices (SA, Qtr/Qtr % Change)                                                                    : num  NA NA NA NA NA NA NA NA NA -0.5 ...\n",
      " $ Externaldebt                                                                                                                                      : num  101.1 101.1 97.7 97.7 97.7 ...\n"
     ]
    }
   ],
   "source": [
    "str(df)"
   ]
  },
  {
   "cell_type": "markdown",
   "metadata": {},
   "source": [
    "#### Run the following cell to see the help page for `read_excel` functio"
   ]
  },
  {
   "cell_type": "code",
   "execution_count": 4,
   "metadata": {},
   "outputs": [],
   "source": [
    "?read_excel"
   ]
  }
 ],
 "metadata": {
  "kernelspec": {
   "display_name": "R",
   "language": "R",
   "name": "ir"
  },
  "language_info": {
   "codemirror_mode": "r",
   "file_extension": ".r",
   "mimetype": "text/x-r-source",
   "name": "R",
   "pygments_lexer": "r",
   "version": "3.5.2"
  }
 },
 "nbformat": 4,
 "nbformat_minor": 2
}
